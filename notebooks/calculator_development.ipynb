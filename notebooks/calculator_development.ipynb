{
 "cells": [
  {
   "cell_type": "markdown",
   "metadata": {},
   "source": [
    "# SageMaker Calculator Model Development\n",
    "\n",
    "This notebook demonstrates the development and testing of a math calculator model for SageMaker deployment."
   ]
  },
  {
   "cell_type": "code",
   "execution_count": null,
   "metadata": {},
   "outputs": [],
   "source": [
    "# Import required libraries\n",
    "import sys\n",
    "import os\n",
    "sys.path.append('../src')\n",
    "\n",
    "from calculator_model import MathCalculator\n",
    "import json"
   ]
  },
  {
   "cell_type": "markdown",
   "metadata": {},
   "source": [
    "## 1. Test Calculator Model Locally"
   ]
  },
  {
   "cell_type": "code",
   "execution_count": null,
   "metadata": {},
   "outputs": [],
   "source": [
    "# Initialize calculator\n",
    "calc = MathCalculator()\n",
    "\n",
    "# Test basic operations\n",
    "test_cases = [\n",
    "    ('add', 10, 5),\n",
    "    ('multiply', 7, 8),\n",
    "    ('divide', 20, 4),\n",
    "    ('sqrt', 16, None),\n",
    "    ('sin', 30, None),\n",
    "    ('power', 2, 3)\n",
    "]\n",
    "\n",
    "for operation, a, b in test_cases:\n",
    "    result = calc.calculate(operation, a, b)\n",
    "    print(f\"{operation}({a}, {b}) = {result}\")"
   ]
  },
  {
   "cell_type": "markdown",
   "metadata": {},
   "source": [
    "## 2. Test Inference Function"
   ]
  },
  {
   "cell_type": "code",
   "execution_count": null,
   "metadata": {},
   "outputs": [],
   "source": [
    "# Test inference pipeline\n",
    "from inference import model_fn, input_fn, predict_fn, output_fn\n",
    "\n",
    "# Load model\n",
    "model = model_fn(None)\n",
    "\n",
    "# Test request\n",
    "test_request = json.dumps({\"operation\": \"add\", \"a\": 15, \"b\": 25})\n",
    "\n",
    "# Process request\n",
    "input_data = input_fn(test_request)\n",
    "prediction = predict_fn(input_data, model)\n",
    "response, content_type = output_fn(prediction)\n",
    "\n",
    "print(f\"Response: {response}\")\n",
    "print(f\"Content Type: {content_type}\")"
   ]
  },
  {
   "cell_type": "markdown",
   "metadata": {},
   "source": [
    "## 3. Prepare for SageMaker Deployment"
   ]
  },
  {
   "cell_type": "code",
   "execution_count": null,
   "metadata": {},
   "outputs": [],
   "source": [
    "# Install required packages\n",
    "!pip install sagemaker boto3"
   ]
  },
  {
   "cell_type": "code",
   "execution_count": null,
   "metadata": {},
   "outputs": [],
   "source": [
    "# Import SageMaker libraries\n",
    "import sagemaker\n",
    "import boto3\n",
    "from sagemaker.sklearn import SKLearnModel\n",
    "from sagemaker import get_execution_role\n",
    "\n",
    "# Get SageMaker session and role\n",
    "sagemaker_session = sagemaker.Session()\n",
    "role = get_execution_role()\n",
    "\n",
    "print(f\"SageMaker role: {role}\")\n",
    "print(f\"Default bucket: {sagemaker_session.default_bucket()}\")"
   ]
  }
 ],
 "metadata": {
  "kernelspec": {
   "display_name": "Python 3",
   "language": "python",
   "name": "python3"
  },
  "language_info": {
   "codemirror_mode": {
    "name": "ipython",
    "version": 3
   },
   "file_extension": ".py",
   "mimetype": "text/x-python",
   "name": "python",
   "nbconvert_exporter": "python",
   "pygments_lexer": "ipython3",
   "version": "3.8.0"
  }
 },
 "nbformat": 4,
 "nbformat_minor": 4
}